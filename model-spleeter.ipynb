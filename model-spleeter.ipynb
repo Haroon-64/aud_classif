!pip install torch torchaudio spleeter

import torch
import torchaudio
from spleeter.separator import Separator
import os
from google.colab import files

def separate_instruments(input_file, output_dir):
    # Create a Separator object
    separator = Separator('spleeter:4stems')

    # Separate the audio file
    separator.separate_to_file(input_file, output_dir)

    print(f"Separation complete. Output files saved in {output_dir}")

# Upload file
uploaded = files.upload()

# Get filename and set up output directory
input_file = next(iter(uploaded))
output_dir = "/content/output"
!mkdir -p {output_dir}

print(f"Input file: {input_file}")
print(f"Output directory: {output_dir}")

# Run separation
separate_instruments(input_file, output_dir)

# Zip and download results
!zip -r /content/separated_audio.zip {output_dir}
files.download("/content/separated_audio.zip")
